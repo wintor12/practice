{
 "cells": [
  {
   "cell_type": "code",
   "execution_count": 2,
   "metadata": {
    "collapsed": false
   },
   "outputs": [
    {
     "name": "stderr",
     "output_type": "stream",
     "text": [
      "Using Theano backend.\n",
      "Using gpu device 0: GeForce GTX 980 Ti (CNMeM is disabled, CuDNN 4007)\n"
     ]
    }
   ],
   "source": [
    "from sklearn.datasets import fetch_20newsgroups\n",
    "import numpy as np\n",
    "from sklearn.feature_extraction.text import TfidfVectorizer\n",
    "from sklearn import metrics\n",
    "from sklearn.neighbors import KNeighborsClassifier\n",
    "\n",
    "\n",
    "from keras.models import Sequential\n",
    "from keras.layers import Dense, Dropout, Activation\n",
    "from keras.optimizers import SGD\n",
    "from keras.utils import np_utils, generic_utils"
   ]
  },
  {
   "cell_type": "code",
   "execution_count": 3,
   "metadata": {
    "collapsed": false
   },
   "outputs": [],
   "source": [
    "newsgroups_train = fetch_20newsgroups(subset='train')\n",
    "newsgroups_test = fetch_20newsgroups(subset='test')\n",
    "vectorizer = TfidfVectorizer(max_df = 0.95, min_df = 5, stop_words = 'english')\n",
    "vectors = vectorizer.fit_transform(newsgroups_train.data)\n",
    "vectors_test = vectorizer.transform(newsgroups_test.data)"
   ]
  },
  {
   "cell_type": "code",
   "execution_count": 18,
   "metadata": {
    "collapsed": false
   },
   "outputs": [
    {
     "data": {
      "text/plain": [
       "(11314, 25634)"
      ]
     },
     "execution_count": 18,
     "metadata": {},
     "output_type": "execute_result"
    }
   ],
   "source": [
    "vectors.shape"
   ]
  },
  {
   "cell_type": "code",
   "execution_count": 19,
   "metadata": {
    "collapsed": true
   },
   "outputs": [],
   "source": [
    "y_train, y_test = [np_utils.to_categorical(x) for x in (newsgroups_train.target, newsgroups_test.target)]\n",
    "X_train = vectors.todense() #can not input sparse matrix\n",
    "X_test = vectors_test.todense()"
   ]
  },
  {
   "cell_type": "code",
   "execution_count": 11,
   "metadata": {
    "collapsed": true
   },
   "outputs": [],
   "source": [
    "model = Sequential()\n",
    "model.add(Dense(30, input_dim=vectors.shape[1], init='uniform'))\n",
    "model.add(Activation('tanh'))\n",
    "model.add(Dropout(0.5))\n",
    "model.add(Dense(30, init='uniform'))\n",
    "model.add(Activation('tanh'))\n",
    "model.add(Dropout(0.5))\n",
    "model.add(Dense(20, init='uniform'))\n",
    "model.add(Activation('softmax'))"
   ]
  },
  {
   "cell_type": "code",
   "execution_count": 12,
   "metadata": {
    "collapsed": true
   },
   "outputs": [],
   "source": [
    "sgd = SGD(lr=0.1, decay=1e-6, momentum=0.9, nesterov=True)\n",
    "model.compile(loss='categorical_crossentropy',\n",
    "              optimizer=sgd)"
   ]
  },
  {
   "cell_type": "code",
   "execution_count": 20,
   "metadata": {
    "collapsed": false
   },
   "outputs": [],
   "source": [
    "##Alternative MLP\n",
    "model = Sequential()\n",
    "model.add(Dense(64, input_dim=vectors.shape[1], activation='relu'))\n",
    "model.add(Dropout(0.5))\n",
    "model.add(Dense(64, activation='relu'))\n",
    "model.add(Dropout(0.5))\n",
    "model.add(Dense(20, activation='softmax'))\n",
    "\n",
    "model.compile(loss='categorical_crossentropy', optimizer='adadelta')"
   ]
  },
  {
   "cell_type": "code",
   "execution_count": null,
   "metadata": {
    "collapsed": true
   },
   "outputs": [],
   "source": []
  },
  {
   "cell_type": "code",
   "execution_count": 21,
   "metadata": {
    "collapsed": false,
    "scrolled": true
   },
   "outputs": [
    {
     "name": "stdout",
     "output_type": "stream",
     "text": [
      "Epoch 1/20\n",
      "11314/11314 [==============================] - 8s - loss: 2.4297 - acc: 0.2479     \n",
      "Epoch 2/20\n",
      "11314/11314 [==============================] - 10s - loss: 1.1884 - acc: 0.6207    \n",
      "Epoch 3/20\n",
      "11314/11314 [==============================] - 9s - loss: 0.7746 - acc: 0.7597     \n",
      "Epoch 4/20\n",
      "11314/11314 [==============================] - 10s - loss: 0.5711 - acc: 0.8252    \n",
      "Epoch 5/20\n",
      "11314/11314 [==============================] - 9s - loss: 0.4732 - acc: 0.8559     \n",
      "Epoch 6/20\n",
      "11314/11314 [==============================] - 10s - loss: 0.4035 - acc: 0.8775    \n",
      "Epoch 7/20\n",
      "11314/11314 [==============================] - 9s - loss: 0.3432 - acc: 0.8985     \n",
      "Epoch 8/20\n",
      "11314/11314 [==============================] - 10s - loss: 0.3113 - acc: 0.9102    \n",
      "Epoch 9/20\n",
      "11314/11314 [==============================] - 9s - loss: 0.2917 - acc: 0.9171     \n",
      "Epoch 10/20\n",
      "11314/11314 [==============================] - 10s - loss: 0.2691 - acc: 0.9177    \n",
      "Epoch 11/20\n",
      "11314/11314 [==============================] - 9s - loss: 0.2321 - acc: 0.9281     \n",
      "Epoch 12/20\n",
      "11314/11314 [==============================] - 10s - loss: 0.2265 - acc: 0.9347    \n",
      "Epoch 13/20\n",
      "11314/11314 [==============================] - 9s - loss: 0.2154 - acc: 0.9347     \n",
      "Epoch 14/20\n",
      "11314/11314 [==============================] - 10s - loss: 0.2093 - acc: 0.9373    \n",
      "Epoch 15/20\n",
      "11314/11314 [==============================] - 9s - loss: 0.1911 - acc: 0.9451     \n",
      "Epoch 16/20\n",
      "11314/11314 [==============================] - 10s - loss: 0.1808 - acc: 0.9492    \n",
      "Epoch 17/20\n",
      "11314/11314 [==============================] - 9s - loss: 0.1731 - acc: 0.9481     \n",
      "Epoch 18/20\n",
      "11314/11314 [==============================] - 10s - loss: 0.1718 - acc: 0.9488    \n",
      "Epoch 19/20\n",
      "11314/11314 [==============================] - 9s - loss: 0.1574 - acc: 0.9534     \n",
      "Epoch 20/20\n",
      "11314/11314 [==============================] - 10s - loss: 0.1531 - acc: 0.9579    \n"
     ]
    },
    {
     "data": {
      "text/plain": [
       "<keras.callbacks.History at 0x7fcaff878a50>"
      ]
     },
     "execution_count": 21,
     "metadata": {},
     "output_type": "execute_result"
    }
   ],
   "source": [
    "model.fit(X_train, y_train,\n",
    "          nb_epoch=20,\n",
    "          batch_size=16,\n",
    "          show_accuracy=True)"
   ]
  },
  {
   "cell_type": "code",
   "execution_count": 22,
   "metadata": {
    "collapsed": false
   },
   "outputs": [
    {
     "name": "stdout",
     "output_type": "stream",
     "text": [
      "7532/7532 [==============================] - 4s     \n"
     ]
    },
    {
     "data": {
      "text/plain": [
       "[1.0058537303541544, 0.82607541160892439]"
      ]
     },
     "execution_count": 22,
     "metadata": {},
     "output_type": "execute_result"
    }
   ],
   "source": [
    "model.evaluate(X_test, y_test, batch_size=16, show_accuracy=True)"
   ]
  }
 ],
 "metadata": {
  "kernelspec": {
   "display_name": "Python 2",
   "language": "python",
   "name": "python2"
  },
  "language_info": {
   "codemirror_mode": {
    "name": "ipython",
    "version": 2
   },
   "file_extension": ".py",
   "mimetype": "text/x-python",
   "name": "python",
   "nbconvert_exporter": "python",
   "pygments_lexer": "ipython2",
   "version": "2.7.6"
  }
 },
 "nbformat": 4,
 "nbformat_minor": 0
}
