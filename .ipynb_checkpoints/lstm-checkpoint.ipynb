{
 "cells": [
  {
   "cell_type": "code",
   "execution_count": 15,
   "metadata": {
    "collapsed": false
   },
   "outputs": [],
   "source": [
    "from sklearn.feature_extraction.text import CountVectorizer\n",
    "from sklearn.datasets import fetch_20newsgroups\n",
    "import numpy as np\n",
    "from sklearn import metrics\n",
    "from keras.models import Sequential\n",
    "from keras.layers import Dense, Dropout, Activation\n",
    "from keras.layers import Embedding\n",
    "from keras.layers import LSTM\n",
    "from keras.preprocessing import text"
   ]
  },
  {
   "cell_type": "code",
   "execution_count": 37,
   "metadata": {
    "collapsed": true
   },
   "outputs": [],
   "source": [
    "import re\n",
    "token_pattern=r\"(?u)\\b\\w\\w+\\b\"\n",
    "def build_tokenizer():\n",
    "    \"\"\"Return a function that splits a string into a sequence of tokens\"\"\"\n",
    "    pattern = re.compile(token_pattern)\n",
    "    return lambda doc: pattern.findall(doc)"
   ]
  },
  {
   "cell_type": "code",
   "execution_count": 5,
   "metadata": {
    "collapsed": false
   },
   "outputs": [
    {
     "data": {
      "text/plain": [
       "(11314, 25634)"
      ]
     },
     "execution_count": 5,
     "metadata": {},
     "output_type": "execute_result"
    }
   ],
   "source": [
    "newsgroups_train = fetch_20newsgroups(subset='train')\n",
    "newsgroups_test = fetch_20newsgroups(subset='test')\n",
    "vectorizer = CountVectorizer(max_df = 0.95, min_df = 5, stop_words = 'english')\n",
    "vectors = vectorizer.fit_transform(newsgroups_train.data)\n",
    "vectors_test = vectorizer.transform(newsgroups_test.data)\n",
    "vectors.shape"
   ]
  },
  {
   "cell_type": "code",
   "execution_count": 9,
   "metadata": {
    "collapsed": false
   },
   "outputs": [
    {
     "data": {
      "text/plain": [
       "u'roid'"
      ]
     },
     "execution_count": 9,
     "metadata": {},
     "output_type": "execute_result"
    }
   ],
   "source": [
    "vocab = vectorizer.get_feature_names()\n",
    "vocab[19999]\n",
    "vectorizer.vocabulary_['roid']"
   ]
  },
  {
   "cell_type": "code",
   "execution_count": 108,
   "metadata": {
    "collapsed": false
   },
   "outputs": [],
   "source": [
    "tokenize = build_tokenizer()\n",
    "X_train = []\n",
    "for seq in newsgroups_train.data:\n",
    "    s = []\n",
    "    for word in tokenize(seq):\n",
    "        if word in vocab:\n",
    "            s.append(vectorizer.vocabulary_[word] + 1)\n",
    "    X_train.append(s)\n",
    "    "
   ]
  },
  {
   "cell_type": "code",
   "execution_count": 51,
   "metadata": {
    "collapsed": true
   },
   "outputs": [],
   "source": [
    "X_test = []\n",
    "for seq in newsgroups_test.data:\n",
    "    s = []\n",
    "    for word in tokenize(seq):\n",
    "        if word in vocab:\n",
    "            s.append(vectorizer.vocabulary_[word] + 1)\n",
    "    X_test.append(s)"
   ]
  },
  {
   "cell_type": "code",
   "execution_count": 96,
   "metadata": {
    "collapsed": false
   },
   "outputs": [
    {
     "name": "stdout",
     "output_type": "stream",
     "text": [
      "X_train shape: (11314, 100)\n",
      "X_test shape: (7532, 100)\n"
     ]
    }
   ],
   "source": [
    "MAX_LEN = max(max([len(x) for x in X_train], max([len(x) for x in X_test])))\n",
    "MAX_LEN = 100\n",
    "X_train = sequence.pad_sequences(X_train, maxlen=MAX_LEN) #30 seems good\n",
    "X_test  = sequence.pad_sequences(X_test,  maxlen=MAX_LEN)\n",
    "print('X_train shape:', X_train.shape)\n",
    "print('X_test shape:', X_test.shape)"
   ]
  },
  {
   "cell_type": "code",
   "execution_count": 99,
   "metadata": {
    "collapsed": false
   },
   "outputs": [
    {
     "name": "stdout",
     "output_type": "stream",
     "text": [
      "Build model...\n"
     ]
    }
   ],
   "source": [
    "print('Build model...')\n",
    "model = Sequential()\n",
    "model.add(Embedding(len(vocab) + 1, 128, input_length=MAX_LEN, dropout=0.5))\n",
    "model.add(LSTM(128, dropout_W=0.5, dropout_U=0.1))  # try using a GRU instead, for fun\n",
    "model.add(Dropout(0.5))\n",
    "model.add(Dense(20, init='uniform'))\n",
    "model.add(Activation('softmax'))\n",
    "\n",
    "model.compile(loss='categorical_crossentropy', optimizer='adadelta')"
   ]
  },
  {
   "cell_type": "code",
   "execution_count": 107,
   "metadata": {
    "collapsed": false
   },
   "outputs": [
    {
     "name": "stdout",
     "output_type": "stream",
     "text": [
      "Train...\n",
      "Epoch 1/20\n",
      "11314/11314 [==============================] - 47s - loss: 0.1274 - acc: 0.9639    \n",
      "Epoch 2/20\n",
      "11314/11314 [==============================] - 45s - loss: 0.1385 - acc: 0.9597    \n",
      "Epoch 3/20\n",
      "11314/11314 [==============================] - 45s - loss: 0.1394 - acc: 0.9599    \n",
      "Epoch 4/20\n",
      "11314/11314 [==============================] - 46s - loss: 0.1278 - acc: 0.9639    \n",
      "Epoch 5/20\n",
      "11314/11314 [==============================] - 48s - loss: 0.1258 - acc: 0.9626    \n",
      "Epoch 6/20\n",
      "11314/11314 [==============================] - 47s - loss: 0.1279 - acc: 0.9641    \n",
      "Epoch 7/20\n",
      "11314/11314 [==============================] - 48s - loss: 0.1251 - acc: 0.9645    \n",
      "Epoch 8/20\n",
      "11314/11314 [==============================] - 47s - loss: 0.1216 - acc: 0.9637    \n",
      "Epoch 9/20\n",
      "11314/11314 [==============================] - 47s - loss: 0.1154 - acc: 0.9668    \n",
      "Epoch 10/20\n",
      "11314/11314 [==============================] - 47s - loss: 0.1284 - acc: 0.9641    \n",
      "Epoch 11/20\n",
      "11314/11314 [==============================] - 48s - loss: 0.1239 - acc: 0.9626    \n",
      "Epoch 12/20\n",
      "11314/11314 [==============================] - 47s - loss: 0.1255 - acc: 0.9639    \n",
      "Epoch 13/20\n",
      "11314/11314 [==============================] - 47s - loss: 0.1188 - acc: 0.9658    \n",
      "Epoch 14/20\n",
      "11314/11314 [==============================] - 47s - loss: 0.1180 - acc: 0.9675    \n",
      "Epoch 15/20\n",
      "11314/11314 [==============================] - 47s - loss: 0.1158 - acc: 0.9645    \n",
      "Epoch 16/20\n",
      "11314/11314 [==============================] - 47s - loss: 0.1192 - acc: 0.9661    \n",
      "Epoch 17/20\n",
      "11314/11314 [==============================] - 47s - loss: 0.1246 - acc: 0.9649    \n",
      "Epoch 18/20\n",
      "11314/11314 [==============================] - 48s - loss: 0.1210 - acc: 0.9654    \n",
      "Epoch 19/20\n",
      "11314/11314 [==============================] - 48s - loss: 0.1229 - acc: 0.9657    \n",
      "Epoch 20/20\n",
      "11314/11314 [==============================] - 49s - loss: 0.1198 - acc: 0.9652    \n",
      "7532/7532 [==============================] - 12s    \n",
      "Test score: 1.25328503232\n",
      "Test accuracy: 0.740175252289\n"
     ]
    }
   ],
   "source": [
    "batch_size = 32\n",
    "print('Train...')\n",
    "y_train, y_test = [np_utils.to_categorical(x) for x in (newsgroups_train.target, newsgroups_test.target)]\n",
    "model.fit(X_train, y_train, batch_size=batch_size, nb_epoch=20, show_accuracy=True)\n",
    "score, acc = model.evaluate(X_test, y_test,\n",
    "                            batch_size=batch_size,\n",
    "                            show_accuracy=True)\n",
    "print('Test score:', score)\n",
    "print('Test accuracy:', acc)"
   ]
  },
  {
   "cell_type": "code",
   "execution_count": 91,
   "metadata": {
    "collapsed": false
   },
   "outputs": [
    {
     "data": {
      "text/plain": [
       "(200,)"
      ]
     },
     "execution_count": 91,
     "metadata": {},
     "output_type": "execute_result"
    }
   ],
   "source": [
    "X_train[3].shape"
   ]
  }
 ],
 "metadata": {
  "kernelspec": {
   "display_name": "Python 2",
   "language": "python",
   "name": "python2"
  },
  "language_info": {
   "codemirror_mode": {
    "name": "ipython",
    "version": 2
   },
   "file_extension": ".py",
   "mimetype": "text/x-python",
   "name": "python",
   "nbconvert_exporter": "python",
   "pygments_lexer": "ipython2",
   "version": "2.7.6"
  }
 },
 "nbformat": 4,
 "nbformat_minor": 0
}
